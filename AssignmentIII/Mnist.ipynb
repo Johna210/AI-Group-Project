{
  "nbformat": 4,
  "nbformat_minor": 0,
  "metadata": {
    "colab": {
      "provenance": [],
      "authorship_tag": "ABX9TyOwaRN2Ng2JvE8jJ75Ts95o",
      "include_colab_link": true
    },
    "kernelspec": {
      "name": "python3",
      "display_name": "Python 3"
    },
    "language_info": {
      "name": "python"
    }
  },
  "cells": [
    {
      "cell_type": "markdown",
      "metadata": {
        "id": "view-in-github",
        "colab_type": "text"
      },
      "source": [
        "<a href=\"https://colab.research.google.com/github/Johna210/AI-Group-Project/blob/main/AssignmentIII/Mnist.ipynb\" target=\"_parent\"><img src=\"https://colab.research.google.com/assets/colab-badge.svg\" alt=\"Open In Colab\"/></a>"
      ]
    },
    {
      "cell_type": "markdown",
      "source": [
        "# **Step 1: Load and Preprocess Data**"
      ],
      "metadata": {
        "id": "CitOh3GKl7ux"
      }
    },
    {
      "cell_type": "code",
      "source": [
        "from keras.datasets import mnist"
      ],
      "metadata": {
        "id": "mdLIAF8LmSH0"
      },
      "execution_count": 2,
      "outputs": []
    },
    {
      "cell_type": "code",
      "source": [
        "# Load MNIST dataset\n",
        "(x_train, y_train), (x_test, y_test) = mnist.load_data()\n",
        "\n",
        "# Normalize the data\n",
        "x_train = x_train.astype('float32') / 255\n",
        "x_test = x_test.astype('float32') / 255\n",
        "\n",
        "# Flatten the images for logistic regression\n",
        "x_train_flat = x_train.reshape(-1, 28*28)\n",
        "x_test_flat = x_test.reshape(-1, 28*28)\n"
      ],
      "metadata": {
        "colab": {
          "base_uri": "https://localhost:8080/"
        },
        "id": "UU9v5EBroGdC",
        "outputId": "b78194df-0464-4ed7-8b1c-71ad65dad5c7"
      },
      "execution_count": 3,
      "outputs": [
        {
          "output_type": "stream",
          "name": "stdout",
          "text": [
            "Downloading data from https://storage.googleapis.com/tensorflow/tf-keras-datasets/mnist.npz\n",
            "11490434/11490434 [==============================] - 1s 0us/step\n"
          ]
        }
      ]
    },
    {
      "cell_type": "code",
      "source": [
        "print(f'Training set shape: {x_train.shape}, {y_train.shape}')\n",
        "print(f'Test set shape: {x_test.shape}, {y_test.shape}')"
      ],
      "metadata": {
        "colab": {
          "base_uri": "https://localhost:8080/"
        },
        "id": "sSS9cbyfoU1g",
        "outputId": "ef3322f5-0e8f-426e-c403-6a4de3877626"
      },
      "execution_count": 4,
      "outputs": [
        {
          "output_type": "stream",
          "name": "stdout",
          "text": [
            "Training set shape: (60000, 28, 28), (60000,)\n",
            "Test set shape: (10000, 28, 28), (10000,)\n"
          ]
        }
      ]
    },
    {
      "cell_type": "markdown",
      "source": [
        "# **Step 2: Feature Extraction**"
      ],
      "metadata": {
        "id": "hWouF7pj8HdR"
      }
    },
    {
      "cell_type": "markdown",
      "source": [
        "### Raw Pixel Values\n",
        "- Aleardy done in the flatenning step\n",
        "- Simple and direct representation of images, capturing all pixel information."
      ],
      "metadata": {
        "id": "KJBW5pty8gN-"
      }
    },
    {
      "cell_type": "markdown",
      "source": [
        "### Histogram of Oriented Gradients (HOG)\n",
        "- Captures the structure and edge information of images, providing a more robust feature set for digit recognition."
      ],
      "metadata": {
        "id": "Jq6aC8-c8orB"
      }
    },
    {
      "cell_type": "code",
      "source": [
        "from skimage.feature import hog\n",
        "import pandas as pd\n",
        "\n",
        "def extract_hog_features(images):\n",
        "    hog_features = [hog(image, pixels_per_cell=(14, 14), cells_per_block=(1, 1), visualize=False) for image in images]\n",
        "    return hog_features\n",
        "\n",
        "x_train_hog = extract_hog_features(x_train)\n",
        "x_test_hog = extract_hog_features(x_test)\n",
        "\n",
        "x_train_hog_df = pd.DataFrame(x_train_hog)\n",
        "x_test_hog_df = pd.DataFrame(x_test_hog)\n",
        "\n",
        "# Verify the shapes\n",
        "print(f'x_train_hog_df shape: {x_train_hog_df.shape}')\n",
        "print(f'x_test_hog_df shape: {x_test_hog_df.shape}')"
      ],
      "metadata": {
        "colab": {
          "base_uri": "https://localhost:8080/"
        },
        "id": "dNbExspJ8udm",
        "outputId": "0481621d-1f26-4bd2-b1a6-26f8e6d5cea9"
      },
      "execution_count": 7,
      "outputs": [
        {
          "output_type": "stream",
          "name": "stdout",
          "text": [
            "x_train_hog_df shape: (60000, 36)\n",
            "x_test_hog_df shape: (10000, 36)\n"
          ]
        }
      ]
    },
    {
      "cell_type": "markdown",
      "source": [
        "### Principal Component Analysis (PCA)\n",
        "- Reduces dimensionality while preserving variance, making computation more efficient and potentially improving model performance."
      ],
      "metadata": {
        "id": "QAacIM-M97nX"
      }
    },
    {
      "cell_type": "code",
      "source": [
        "from sklearn.decomposition import PCA\n",
        "\n",
        "pca = PCA(n_components=50)\n",
        "x_train_pca = pca.fit_transform(x_train_flat)\n",
        "x_test_pca = pca.transform(x_test_flat)"
      ],
      "metadata": {
        "id": "Otyy7CRY-AMd"
      },
      "execution_count": 8,
      "outputs": []
    },
    {
      "cell_type": "code",
      "source": [
        "\n"
      ],
      "metadata": {
        "id": "BT_LSLVT-DbM"
      },
      "execution_count": null,
      "outputs": []
    },
    {
      "cell_type": "markdown",
      "source": [
        "# **Step 3: Model Implimentaion**"
      ],
      "metadata": {
        "id": "3h6eTRkp_l-p"
      }
    },
    {
      "cell_type": "code",
      "source": [
        "from sklearn.naive_bayes import GaussianNB\n",
        "from sklearn.linear_model import LogisticRegression\n",
        "from sklearn.model_selection import GridSearchCV\n",
        "from sklearn.metrics import accuracy_score\n",
        "\n",
        "# Define hyperparameters\n",
        "nb_params = {'var_smoothing': [1e-9, 1e-8, 1e-7, 1e-6, 1e-5]}\n",
        "lr_params = {'C': [0.0001, 0.001, 0.01, 0.1, 1.0, 1.5]}\n",
        "\n",
        "# Function to perform GridSearchCV\n",
        "def perform_grid_search(model, params, x_train, y_train):\n",
        "    try:\n",
        "        grid_search = GridSearchCV(model, params, cv=3, scoring='accuracy')\n",
        "        grid_search.fit(x_train, y_train)\n",
        "        return grid_search.best_estimator_\n",
        "    except Exception as e:\n",
        "        print(f\"Error during grid search for {model}: {e}\")\n",
        "        return None\n",
        "\n",
        "# Define models\n",
        "models = {\n",
        "    'nb': GaussianNB(),\n",
        "    'lr': LogisticRegression(max_iter=1000, solver='liblinear')\n",
        "}\n",
        "\n",
        "# Training and evaluation function\n",
        "def train_and_evaluate(models, x_train, y_train, x_test, y_test, nb_params, lr_params):\n",
        "    best_models = {}\n",
        "    for name, model in models.items():\n",
        "        if name == 'nb':\n",
        "            best_models[name] = perform_grid_search(model, nb_params, x_train, y_train)\n",
        "        else:\n",
        "            best_models[name] = perform_grid_search(model, lr_params, x_train, y_train)\n",
        "\n",
        "    # Evaluate on test set\n",
        "    for name, model in best_models.items():\n",
        "        if model:\n",
        "            predictions = model.predict(x_test)\n",
        "            accuracy = accuracy_score(y_test, predictions)\n",
        "            print(f'{name.upper()} Model Accuracy: {accuracy:.4f}')\n",
        "        else:\n",
        "            print(f'{name.upper()} Model training failed.')\n",
        "\n",
        "# Assuming you have loaded and preprocessed the MNIST data as x_train, y_train, x_test, y_test\n",
        "print(\"Evaluating on raw pixel values:\")\n",
        "train_and_evaluate(models, x_train_flat, y_train, x_test_flat, y_test, nb_params, lr_params)\n",
        "\n",
        "# Assuming you have extracted HOG features into x_train_hog, x_test_hog\n",
        "print(\"Evaluating on HOG features:\")\n",
        "train_and_evaluate(models, x_train_hog, y_train, x_test_hog, y_test, nb_params, lr_params)\n",
        "\n",
        "# Assuming you have performed PCA and got x_train_pca, x_test_pca\n",
        "print(\"Evaluating on PCA features:\")\n",
        "train_and_evaluate(models, x_train_pca, y_train, x_test_pca, y_test, nb_params, lr_params)\n"
      ],
      "metadata": {
        "colab": {
          "base_uri": "https://localhost:8080/"
        },
        "id": "USqZHyzv_rUj",
        "outputId": "106a5b55-015d-42a9-9a79-12c651cd2f41"
      },
      "execution_count": 13,
      "outputs": [
        {
          "output_type": "stream",
          "name": "stdout",
          "text": [
            "Evaluating on raw pixel values:\n",
            "NB Model Accuracy: 0.6414\n",
            "LR Model Accuracy: 0.9201\n",
            "Evaluating on HOG features:\n",
            "NB Model Accuracy: 0.8150\n",
            "LR Model Accuracy: 0.8651\n",
            "Evaluating on PCA features:\n",
            "NB Model Accuracy: 0.8777\n",
            "LR Model Accuracy: 0.9049\n"
          ]
        }
      ]
    },
    {
      "cell_type": "code",
      "source": [
        "import matplotlib.pyplot as plt\n",
        "\n",
        "def plot_hyperparameter_variations(grid_search_results, param_name, model_name):\n",
        "    means = grid_search_results.cv_results_['mean_test_score']\n",
        "    stds = grid_search_results.cv_results_['std_test_score']\n",
        "    params = grid_search_results.cv_results_['params']\n",
        "\n",
        "    param_values = [param[param_name] for param in params]\n",
        "\n",
        "    plt.figure(figsize=(8, 6))\n",
        "    plt.errorbar(param_values, means, yerr=stds, fmt='-o')\n",
        "    plt.xlabel(param_name)\n",
        "    plt.ylabel('Accuracy')\n",
        "    plt.title(f'Hyperparameter Tuning for {model_name}')\n",
        "    plt.xscale('log')\n",
        "    plt.show()\n"
      ],
      "metadata": {
        "id": "KaSuvJqT_4RT"
      },
      "execution_count": 16,
      "outputs": []
    },
    {
      "cell_type": "code",
      "source": [
        "# Plot for Naive Bayes\n",
        "nb_results = GridSearchCV(MultinomialNB(), {'alpha': [0.1, 0.5, 1.0, 10, 100]}, cv=3, scoring='accuracy').fit(x_train_hog, y_train)\n",
        "plot_hyperparameter_variations(nb_results, 'alpha', 'Naive Bayes')\n",
        "\n",
        "# Plot for Logistic Regression\n",
        "lr_results = GridSearchCV(LogisticRegression(max_iter=1000), lr_params, cv=3, scoring='accuracy').fit(x_train_hog, y_train)\n",
        "plot_hyperparameter_variations(lr_results, 'C', 'Logistic Regression')"
      ],
      "metadata": {
        "colab": {
          "base_uri": "https://localhost:8080/",
          "height": 1000
        },
        "id": "a2ILJQ3TJTC8",
        "outputId": "49a582f2-2c05-4b0d-e2d1-448c39030271"
      },
      "execution_count": 19,
      "outputs": [
        {
          "output_type": "display_data",
          "data": {
            "text/plain": [
              "<Figure size 800x600 with 1 Axes>"
            ],
            "image/png": "[encoded data removed]"
          },
          "metadata": {}
        },
        {
          "output_type": "display_data",
          "data": {
            "text/plain": [
              "<Figure size 800x600 with 1 Axes>"
            ],
            "image/png": "[encoded data removed]"
          },
          "metadata": {}
        }
      ]
    },
    {
      "cell_type": "code",
      "source": [],
      "metadata": {
        "id": "F1BkmfZwJaed"
      },
      "execution_count": null,
      "outputs": []
    }
  ]
}