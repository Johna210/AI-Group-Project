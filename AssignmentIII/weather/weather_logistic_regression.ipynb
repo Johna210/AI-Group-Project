{
 "cells": [
  {
   "cell_type": "markdown",
   "metadata": {},
   "source": [
    "Load the dataset - 'train.csv' \\\n",
    "Each raw in the file contains the following values of weather value. \n",
    "- first column -> Continent\n",
    "- second column -> Season\n",
    "- third column -> Wind Speed\n",
    "- fourth column -> Location\n",
    "- fifth column -> Weather\n",
    "- sixth column -> Temperature"
   ]
  },
  {
   "cell_type": "code",
   "execution_count": 20,
   "metadata": {},
   "outputs": [],
   "source": [
    "import math\n",
    "\n",
    "import random\n",
    "\n",
    "from collections import defaultdict\n",
    "\n",
    "import time\n",
    "\n",
    "import matplotlib.pyplot as plt\n",
    "\n",
    "%matplotlib inline"
   ]
  },
  {
   "cell_type": "code",
   "execution_count": 21,
   "metadata": {},
   "outputs": [],
   "source": [
    "def load_data(path):\n",
    "    with open(path) as f:\n",
    "        lines = f.readlines()\n",
    "    \n",
    "    data_x = []\n",
    "    data_y = []\n",
    "    \n",
    "    for line in lines:\n",
    "        line = list(map(str.strip, line.split(',')))    \n",
    "        \n",
    "        data_x.append(line[:5])\n",
    "        data_y.append(line[5])\n",
    "        \n",
    "    return data_x, data_y"
   ]
  },
  {
   "cell_type": "code",
   "execution_count": 22,
   "metadata": {},
   "outputs": [
    {
     "data": {
      "text/plain": [
       "(107, 107)"
      ]
     },
     "execution_count": 22,
     "metadata": {},
     "output_type": "execute_result"
    }
   ],
   "source": [
    "train_x, train_y = load_data('dataset/train.csv')\n",
    "validate_x, validate_y = load_data('dataset/validate.csv')\n",
    "test_x, test_y = load_data('dataset/train.csv')\n",
    "\n",
    "len(train_x), len(train_y)"
   ]
  },
  {
   "cell_type": "code",
   "execution_count": 23,
   "metadata": {},
   "outputs": [
    {
     "data": {
      "text/plain": [
       "({'Africa': 0, 'Australia': 1, 'North America': 2},\n",
       " {'Spring': 0, 'Summer': 1, 'Autumn': 2, 'Winter': 3},\n",
       " {'High': 0, 'Low': 1, 'Normal': 2},\n",
       " {'Coast Line': 0, 'Coastline': 1, 'Inland': 2},\n",
       " {'Rainy': 0, 'Sunny': 1, 'Cloudy': 2, 'Humid': 3},\n",
       " {'Normal': 0, 'Hot': 1, 'Cold': 2})"
      ]
     },
     "execution_count": 23,
     "metadata": {},
     "output_type": "execute_result"
    }
   ],
   "source": [
    "# Encode features\n",
    "\n",
    "unique_country = {}\n",
    "unique_season = {}\n",
    "unique_windspeed = {}\n",
    "unique_location = {}\n",
    "unique_weather = {}\n",
    "\n",
    "unique_temperature = {}\n",
    "\n",
    "\n",
    "for country, season, windspeed, location, weather in train_x:\n",
    "    if country not in unique_country:\n",
    "        unique_country[country] = len(unique_country)\n",
    "    \n",
    "    if season not in unique_season:\n",
    "        unique_season[season] = len(unique_season)\n",
    "    \n",
    "    if windspeed not in unique_windspeed:\n",
    "        unique_windspeed[windspeed] = len(unique_windspeed)\n",
    "    \n",
    "    if location not in unique_location:\n",
    "        unique_location[location] = len(unique_location)\n",
    "    \n",
    "    if weather not in unique_weather:\n",
    "        unique_weather[weather] = len(unique_weather)    \n",
    "            \n",
    "\n",
    "for temp in train_y:\n",
    "    if temp not in unique_temperature:\n",
    "        unique_temperature[temp] = len(unique_temperature)\n",
    "    \n",
    "    \n",
    "unique_country, unique_season, unique_windspeed, unique_location, unique_weather,  unique_temperature"
   ]
  },
  {
   "cell_type": "code",
   "execution_count": 24,
   "metadata": {},
   "outputs": [],
   "source": [
    "def featureize(input_x, input_y):\n",
    "    # one hot encode for features\n",
    "    \n",
    "    country = [0] * len(unique_country)    \n",
    "    season = [0] * len(unique_season)\n",
    "    windspeed = [0] * len(unique_windspeed)\n",
    "    location = [0] * len(unique_location)\n",
    "    weather = [0] * len(unique_weather)\n",
    "    \n",
    "    c_idx = unique_country[input_x[0]]\n",
    "    s_idx = unique_season[input_x[1]]\n",
    "    w_idx = unique_windspeed[input_x[2]]\n",
    "    l_idx = unique_location[input_x[3]]\n",
    "    weather_idx = unique_weather[input_x[4]]\n",
    "    \n",
    "    country[c_idx] = 1\n",
    "    season[s_idx] = 1\n",
    "    windspeed[w_idx] = 1\n",
    "    location[l_idx] = 1\n",
    "    weather[weather_idx] = 1\n",
    "    \n",
    "    feature_x = country + season + windspeed + location + weather\n",
    "    label_y = unique_temperature[input_y]\n",
    "    \n",
    "    return feature_x, label_y"
   ]
  },
  {
   "cell_type": "code",
   "execution_count": 25,
   "metadata": {},
   "outputs": [],
   "source": [
    "def sigmoid_scalar(x):\n",
    "    # to avoid overflow\n",
    "    if x < 0:\n",
    "        sigmoid = math.exp(x) / (1 + math.exp(x))\n",
    "    else:\n",
    "        sigmoid = 1 / (1 + math.exp(-x))\n",
    "\n",
    "    # to handle machine precision errors\n",
    "    sigmoid = max(0.0001, sigmoid)\n",
    "    sigmoid = min(0.9999, sigmoid)\n",
    "\n",
    "    return sigmoid"
   ]
  },
  {
   "cell_type": "code",
   "execution_count": 26,
   "metadata": {},
   "outputs": [],
   "source": [
    "def argmax(values):\n",
    "    max_value = float('-inf')\n",
    "    max_index = 0\n",
    "\n",
    "    for idx, value in enumerate(values):\n",
    "        if value > max_value:\n",
    "            max_index = idx\n",
    "            max_value = value\n",
    "\n",
    "    return max_index"
   ]
  },
  {
   "cell_type": "code",
   "execution_count": 27,
   "metadata": {},
   "outputs": [],
   "source": [
    "def predict(sample_x, weights):\n",
    "    # calculate z = sum(w * x + b)\n",
    "    # here bias (b) is also included in weights\n",
    "    z = 0\n",
    "    for x, w in zip(sample_x, weights):\n",
    "        z += w * x\n",
    "\n",
    "    # sigmoid(z)\n",
    "    return sigmoid_scalar(z)"
   ]
  },
  {
   "cell_type": "code",
   "execution_count": 28,
   "metadata": {},
   "outputs": [],
   "source": [
    "def cross_entropy_loss(predicted_value, actual_value):\n",
    "    y = actual_value\n",
    "    y_pred = predicted_value    \n",
    "\n",
    "    if y == 1:        \n",
    "        return -math.log(y_pred)\n",
    "\n",
    "    else:        \n",
    "        return -math.log(1 - y_pred)"
   ]
  },
  {
   "cell_type": "code",
   "execution_count": 29,
   "metadata": {},
   "outputs": [],
   "source": [
    "def gradient_decent(X, label, weights=None, learning_rate=0.1):\n",
    "    n_features = len(X[0])\n",
    "\n",
    "    # initialize weight with random values (equal length to x's features)\n",
    "    if weights == None:\n",
    "        weights = [random.random() for _ in range(n_features)]\n",
    "\n",
    "    loss = 0\n",
    "\n",
    "    for x, y in zip(X, label):\n",
    "        y_pred = predict(x, weights)\n",
    "        loss += cross_entropy_loss(y_pred, y)\n",
    "\n",
    "        # dw = (y_pred - y) * x\n",
    "        # weight = weight - learning_rate * dw\n",
    "        err = y_pred - y\n",
    "        for i in range(n_features):\n",
    "            dw_i = err * x[i]\n",
    "            weights[i] -= learning_rate * dw_i\n",
    "\n",
    "    return weights, loss / len(X)"
   ]
  },
  {
   "cell_type": "code",
   "execution_count": 30,
   "metadata": {},
   "outputs": [],
   "source": [
    "def train_binary_class(x_train, y_train, learning_rate, epoch, verbose=False):\n",
    "    weights = None\n",
    "\n",
    "    # for graphing\n",
    "    history = []\n",
    "\n",
    "    for i in range(epoch):\n",
    "        weights, loss = gradient_decent(x_train, y_train, weights, learning_rate)\n",
    "\n",
    "        history.append(loss)\n",
    "\n",
    "        if verbose:\n",
    "            print(f\"Epoch [{i}]\\n\\t- Cross entropy loss: {loss}\\n\")\n",
    "\n",
    "    return weights, history"
   ]
  },
  {
   "cell_type": "code",
   "execution_count": 31,
   "metadata": {},
   "outputs": [],
   "source": [
    "def train_multiclass(x_train, y_train, learning_rate, epoch, verbose=False):\n",
    "    # identify unique classes\n",
    "    classes = range(0, len(unique_temperature))\n",
    "\n",
    "    # for each class create separate labels suitable for binary classification\n",
    "    labels = [[] for _ in classes]\n",
    "\n",
    "    for class_ in classes:\n",
    "        for label in y_train:            \n",
    "            if label == class_:\n",
    "                labels[class_].append(1)\n",
    "\n",
    "            else:\n",
    "                labels[class_].append(0)\n",
    "    \n",
    "    # now that we have separate labels for each class\n",
    "    # lets train binary classifier for each class\n",
    "    # (each classifier will identify whether sample x is member of class or not)\n",
    "\n",
    "    \n",
    "    classifiers = [None] * len(unique_temperature)\n",
    "    histories = [None] * len(unique_temperature)\n",
    "\n",
    "    for cls_, label in enumerate(labels):\n",
    "        if verbose:\n",
    "            print(f'Training class [{cls_}]')\n",
    "\n",
    "        weights, history = train_binary_class(x_train, label, learning_rate, epoch)        \n",
    "\n",
    "        classifiers[cls_] = weights\n",
    "        histories[cls_] = history\n",
    "\n",
    "        if verbose:\n",
    "            print('---------------------------------------------------------------------')\n",
    "    \n",
    "\n",
    "    return classifiers, histories"
   ]
  },
  {
   "cell_type": "code",
   "execution_count": 32,
   "metadata": {},
   "outputs": [],
   "source": [
    "def predict_class(sample_x, model):\n",
    "    class_probabilities = []\n",
    "    \n",
    "    for weights in model:\n",
    "        class_probability = predict(sample_x, weights)\n",
    "        class_probabilities.append(class_probability)\n",
    "    \n",
    "    return argmax(class_probabilities)"
   ]
  },
  {
   "cell_type": "code",
   "execution_count": 33,
   "metadata": {},
   "outputs": [],
   "source": [
    "def test(test_x, label, model):    \n",
    "    net_accuracy = 0\n",
    "\n",
    "    for i in range(len(test_x)):\n",
    "        prediction = predict_class(test_x[i], model)        \n",
    "\n",
    "        if prediction == label[i]:\n",
    "            net_accuracy += 1              \n",
    "\n",
    "    return net_accuracy / len(test_x)\n"
   ]
  },
  {
   "cell_type": "code",
   "execution_count": 34,
   "metadata": {},
   "outputs": [],
   "source": [
    "x_train_set = []\n",
    "y_train_set = []\n",
    "\n",
    "for x, y in zip(train_x, train_y):\n",
    "    x, y = featureize(x, y)\n",
    "    x_train_set.append(x)\n",
    "    y_train_set.append(y)\n"
   ]
  },
  {
   "cell_type": "code",
   "execution_count": 35,
   "metadata": {},
   "outputs": [],
   "source": [
    "x_validation_set = []\n",
    "y_validation_set = []\n",
    "\n",
    "for x, y in zip(validate_x, validate_y):\n",
    "    x, y = featureize(x, y)\n",
    "    x_validation_set.append(x)\n",
    "    y_validation_set.append(y)"
   ]
  },
  {
   "cell_type": "code",
   "execution_count": 36,
   "metadata": {},
   "outputs": [
    {
     "name": "stdout",
     "output_type": "stream",
     "text": [
      "Learning rate: 0.0001\n",
      "Training class [0]\n",
      "---------------------------------------------------------------------\n",
      "Training class [1]\n",
      "---------------------------------------------------------------------\n",
      "Training class [2]\n",
      "---------------------------------------------------------------------\n",
      "Learning rate: 0.001\n",
      "Training class [0]\n",
      "---------------------------------------------------------------------\n",
      "Training class [1]\n",
      "---------------------------------------------------------------------\n",
      "Training class [2]\n",
      "---------------------------------------------------------------------\n",
      "Learning rate: 0.01\n",
      "Training class [0]\n",
      "---------------------------------------------------------------------\n",
      "Training class [1]\n",
      "---------------------------------------------------------------------\n",
      "Training class [2]\n",
      "---------------------------------------------------------------------\n",
      "Learning rate: 0.1\n",
      "Training class [0]\n",
      "---------------------------------------------------------------------\n",
      "Training class [1]\n",
      "---------------------------------------------------------------------\n",
      "Training class [2]\n",
      "---------------------------------------------------------------------\n",
      "Learning rate: 1.0\n",
      "Training class [0]\n",
      "---------------------------------------------------------------------\n",
      "Training class [1]\n",
      "---------------------------------------------------------------------\n",
      "Training class [2]\n",
      "---------------------------------------------------------------------\n",
      "Learning rate: 1.5\n",
      "Training class [0]\n",
      "---------------------------------------------------------------------\n",
      "Training class [1]\n",
      "---------------------------------------------------------------------\n",
      "Training class [2]\n",
      "---------------------------------------------------------------------\n"
     ]
    }
   ],
   "source": [
    "learning_rates = [0.0001, 0.001, 0.01, 0.1, 1.0, 1.5]\n",
    "\n",
    "epochs = 1000\n",
    "\n",
    "histories = []\n",
    "\n",
    "models = []\n",
    "\n",
    "for eta in learning_rates:\n",
    "    print(f'Learning rate: {eta}')\n",
    "\n",
    "    start_time = time.perf_counter()\n",
    "\n",
    "    model, history = train_multiclass(x_train_set, y_train_set, eta, epochs, verbose=True)\n",
    "\n",
    "    time_taken = time.perf_counter() - start_time  \n",
    "    \n",
    "    models.append(model)\n",
    "    \n",
    "    histories.append(\n",
    "      (   time_taken,\n",
    "          histories,\n",
    "          test(x_validation_set, y_validation_set, model)\n",
    "      )\n",
    "    )\n"
   ]
  },
  {
   "cell_type": "code",
   "execution_count": 37,
   "metadata": {},
   "outputs": [],
   "source": [
    "x_test_set = []\n",
    "y_test_set = []\n",
    "\n",
    "for x, y in zip(test_x, test_y):\n",
    "    x, y = featureize(x, y)\n",
    "    x_test_set.append(x)\n",
    "    y_test_set.append(y)\n"
   ]
  },
  {
   "cell_type": "code",
   "execution_count": 38,
   "metadata": {},
   "outputs": [],
   "source": [
    "accuracy = []\n",
    "\n",
    "for i in range(len(learning_rates)):        \n",
    "    \n",
    "    acc = test(x_test_set, y_test_set, models[i])\n",
    "    \n",
    "    accuracy.append(acc)"
   ]
  },
  {
   "cell_type": "code",
   "execution_count": 39,
   "metadata": {},
   "outputs": [
    {
     "data": {
      "image/png": "[encoded data removed]",
      "text/plain": [
       "<Figure size 1500x500 with 1 Axes>"
      ]
     },
     "metadata": {},
     "output_type": "display_data"
    }
   ],
   "source": [
    "plt.rcParams[\"figure.figsize\"] = (15,5)\n",
    "\n",
    "plt.plot(list(map(math.log, learning_rates)), accuracy, 'bo')\n",
    "plt.xlabel('Learning rates')\n",
    "plt.ylabel('Accuracy')\n",
    "plt.xticks(list(map(math.log, learning_rates)), labels=learning_rates, rotation=90)\n",
    "\n",
    "plt.rcParams[\"figure.figsize\"] = plt.rcParamsDefault[\"figure.figsize\"]"
   ]
  },
  {
   "cell_type": "code",
   "execution_count": 40,
   "metadata": {},
   "outputs": [
    {
     "data": {
      "text/plain": [
       "[0.7009345794392523,\n",
       " 0.794392523364486,\n",
       " 0.794392523364486,\n",
       " 0.794392523364486,\n",
       " 0.8411214953271028,\n",
       " 0.8037383177570093]"
      ]
     },
     "execution_count": 40,
     "metadata": {},
     "output_type": "execute_result"
    }
   ],
   "source": [
    "accuracy"
   ]
  },
  {
   "cell_type": "code",
   "execution_count": null,
   "metadata": {},
   "outputs": [],
   "source": []
  }
 ],
 "metadata": {
  "kernelspec": {
   "display_name": "Python 3 (ipykernel)",
   "language": "python",
   "name": "python3"
  },
  "language_info": {
   "codemirror_mode": {
    "name": "ipython",
    "version": 3
   },
   "file_extension": ".py",
   "mimetype": "text/x-python",
   "name": "python",
   "nbconvert_exporter": "python",
   "pygments_lexer": "ipython3",
   "version": "3.10.6"
  }
 },
 "nbformat": 4,
 "nbformat_minor": 2
}
